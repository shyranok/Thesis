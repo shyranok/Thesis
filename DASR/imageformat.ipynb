{
 "cells": [
  {
   "cell_type": "code",
   "execution_count": 4,
   "metadata": {},
   "outputs": [
    {
     "name": "stdout",
     "output_type": "stream",
     "text": [
      "C:\\Users\\shyra\\Google Drive (shyranok@gmail.com)\\Thesis\\benchmark\\Set14\\part2\n"
     ]
    }
   ],
   "source": [
    "#Change the real-human dataset and the UTKFace dataset to be .png files instead of .jpg files\n",
    "#Code from: https://gist.github.com/qingswu/1a58c9d66dfc0a6aaac45528bbe01b82\n",
    "%cd C:/Users/shyra/Google Drive (shyranok@gmail.com)/Thesis/benchmark/Set14/part2\n",
    "from glob import glob\n",
    "import cv2\n",
    "jpgs = glob('./*.jpg')\n",
    "\n",
    "for j in jpgs:\n",
    "    img = cv2.imread(j)\n",
    "    cv2.imwrite(j[:-3] + 'png', img)"
   ]
  }
 ],
 "metadata": {
  "kernelspec": {
   "display_name": "Python 3.7.9 ('EnvDSS': venv)",
   "language": "python",
   "name": "python3"
  },
  "language_info": {
   "codemirror_mode": {
    "name": "ipython",
    "version": 3
   },
   "file_extension": ".py",
   "mimetype": "text/x-python",
   "name": "python",
   "nbconvert_exporter": "python",
   "pygments_lexer": "ipython3",
   "version": "3.7.9"
  },
  "orig_nbformat": 4,
  "vscode": {
   "interpreter": {
    "hash": "f0bbfa5450026e0cff4d5bd8845b98700948b143f8e24421d580d0e715614b9c"
   }
  }
 },
 "nbformat": 4,
 "nbformat_minor": 2
}
